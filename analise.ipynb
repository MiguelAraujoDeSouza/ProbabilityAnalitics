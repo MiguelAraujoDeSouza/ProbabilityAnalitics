{
 "cells": [
  {
   "cell_type": "markdown",
   "metadata": {}
   "source": [
    "# Project"
   ]
  },
  {
   "cell_type": "markdown",
   "metadata": {},
   "source": [
    "## Tests"
   ]
  },
  {
   "cell_type": "markdown",
   "metadata": {},
   "source": [
    "#### Libs"
   ]
  },
  {
   "cell_type": "code",
   "execution_count": 1,
   "metadata": {},
   "outputs": [],
   "source": [
    "import pandas as pd\n"
   ]
  },
  {
   "cell_type": "markdown",
   "metadata": {},
   "source": [
    "#### Reading .xlsx\n"
   ]
  },
  {
   "cell_type": "code",
   "execution_count": 2,
   "metadata": {},
   "outputs": [
    {
     "data": {
      "text/html": [
       "<div>\n",
       "<style scoped>\n",
       "    .dataframe tbody tr th:only-of-type {\n",
       "        vertical-align: middle;\n",
       "    }\n",
       "\n",
       "    .dataframe tbody tr th {\n",
       "        vertical-align: top;\n",
       "    }\n",
       "\n",
       "    .dataframe thead th {\n",
       "        text-align: right;\n",
       "    }\n",
       "</style>\n",
       "<table border=\"1\" class=\"dataframe\">\n",
       "  <thead>\n",
       "    <tr style=\"text-align: right;\">\n",
       "      <th></th>\n",
       "      <th>Order ID</th>\n",
       "    </tr>\n",
       "  </thead>\n",
       "  <tbody>\n",
       "    <tr>\n",
       "      <th>0</th>\n",
       "      <td>CA-2016-152156</td>\n",
       "    </tr>\n",
       "    <tr>\n",
       "      <th>1</th>\n",
       "      <td>CA-2016-152156</td>\n",
       "    </tr>\n",
       "    <tr>\n",
       "      <th>2</th>\n",
       "      <td>CA-2016-138688</td>\n",
       "    </tr>\n",
       "    <tr>\n",
       "      <th>3</th>\n",
       "      <td>US-2015-108966</td>\n",
       "    </tr>\n",
       "    <tr>\n",
       "      <th>4</th>\n",
       "      <td>US-2015-108966</td>\n",
       "    </tr>\n",
       "  </tbody>\n",
       "</table>\n",
       "</div>"
      ],
      "text/plain": [
       "         Order ID\n",
       "0  CA-2016-152156\n",
       "1  CA-2016-152156\n",
       "2  CA-2016-138688\n",
       "3  US-2015-108966\n",
       "4  US-2015-108966"
      ]
     },
     "metadata": {},
     "output_type": "display_data"
    },
    {
     "data": {
      "text/html": [
       "<div>\n",
       "<style scoped>\n",
       "    .dataframe tbody tr th:only-of-type {\n",
       "        vertical-align: middle;\n",
       "    }\n",
       "\n",
       "    .dataframe tbody tr th {\n",
       "        vertical-align: top;\n",
       "    }\n",
       "\n",
       "    .dataframe thead th {\n",
       "        text-align: right;\n",
       "    }\n",
       "</style>\n",
       "<table border=\"1\" class=\"dataframe\">\n",
       "  <thead>\n",
       "    <tr style=\"text-align: right;\">\n",
       "      <th></th>\n",
       "      <th>Sub-Category</th>\n",
       "    </tr>\n",
       "  </thead>\n",
       "  <tbody>\n",
       "    <tr>\n",
       "      <th>0</th>\n",
       "      <td>Bookcases</td>\n",
       "    </tr>\n",
       "    <tr>\n",
       "      <th>1</th>\n",
       "      <td>Chairs</td>\n",
       "    </tr>\n",
       "    <tr>\n",
       "      <th>2</th>\n",
       "      <td>Labels</td>\n",
       "    </tr>\n",
       "    <tr>\n",
       "      <th>3</th>\n",
       "      <td>Tables</td>\n",
       "    </tr>\n",
       "    <tr>\n",
       "      <th>4</th>\n",
       "      <td>Storage</td>\n",
       "    </tr>\n",
       "  </tbody>\n",
       "</table>\n",
       "</div>"
      ],
      "text/plain": [
       "  Sub-Category\n",
       "0    Bookcases\n",
       "1       Chairs\n",
       "2       Labels\n",
       "3       Tables\n",
       "4      Storage"
      ]
     },
     "metadata": {},
     "output_type": "display_data"
    }
   ],
   "source": [
    "excel = pd.read_excel('./loja.xlsx')\n",
    "\n",
    "orderIds = excel['Order ID']\n",
    "subCategory = excel['Sub-Category']\n",
    "\n",
    "subCategory = pd.DataFrame(subCategory)\n",
    "orderIds = pd.DataFrame(orderIds)\n",
    "\n",
    "\n",
    "display(orderIds.head())\n",
    "display(subCategory.head())"
   ]
  },
  {
   "cell_type": "markdown",
   "metadata": {},
   "source": [
    "### Testing functions\n"
   ]
  },
  {
   "cell_type": "markdown",
   "metadata": {},
   "source": [
    "<p>\n",
    "    basicly, transforming data in binary, 1 for ID who has item in column and 0 who hasnt\n",
    "    and before, filtring the products to can count the most popular new recomendation\n",
    "</p>"
   ]
  },
  {
   "cell_type": "code",
   "execution_count": 16,
   "metadata": {},
   "outputs": [
    {
     "data": {
      "text/html": [
       "<div>\n",
       "<style scoped>\n",
       "    .dataframe tbody tr th:only-of-type {\n",
       "        vertical-align: middle;\n",
       "    }\n",
       "\n",
       "    .dataframe tbody tr th {\n",
       "        vertical-align: top;\n",
       "    }\n",
       "\n",
       "    .dataframe thead th {\n",
       "        text-align: right;\n",
       "    }\n",
       "</style>\n",
       "<table border=\"1\" class=\"dataframe\">\n",
       "  <thead>\n",
       "    <tr style=\"text-align: right;\">\n",
       "      <th>Sub-Category</th>\n",
       "      <th>Accessories</th>\n",
       "      <th>Appliances</th>\n",
       "      <th>Art</th>\n",
       "      <th>Binders</th>\n",
       "      <th>Bookcases</th>\n",
       "      <th>Chairs</th>\n",
       "      <th>Copiers</th>\n",
       "      <th>Envelopes</th>\n",
       "      <th>Fasteners</th>\n",
       "      <th>Furnishings</th>\n",
       "      <th>Labels</th>\n",
       "      <th>Machines</th>\n",
       "      <th>Paper</th>\n",
       "      <th>Phones</th>\n",
       "      <th>Storage</th>\n",
       "      <th>Supplies</th>\n",
       "      <th>Tables</th>\n",
       "    </tr>\n",
       "    <tr>\n",
       "      <th>Order ID</th>\n",
       "      <th></th>\n",
       "      <th></th>\n",
       "      <th></th>\n",
       "      <th></th>\n",
       "      <th></th>\n",
       "      <th></th>\n",
       "      <th></th>\n",
       "      <th></th>\n",
       "      <th></th>\n",
       "      <th></th>\n",
       "      <th></th>\n",
       "      <th></th>\n",
       "      <th></th>\n",
       "      <th></th>\n",
       "      <th></th>\n",
       "      <th></th>\n",
       "      <th></th>\n",
       "    </tr>\n",
       "  </thead>\n",
       "  <tbody>\n",
       "  </tbody>\n",
       "</table>\n",
       "</div>"
      ],
      "text/plain": [
       "Empty DataFrame\n",
       "Columns: [Accessories, Appliances, Art, Binders, Bookcases, Chairs, Copiers, Envelopes, Fasteners, Furnishings, Labels, Machines, Paper, Phones, Storage, Supplies, Tables]\n",
       "Index: []"
      ]
     },
     "metadata": {},
     "output_type": "display_data"
    },
    {
     "data": {
      "text/plain": [
       "{'Appliances': np.float64(17.115749525616696),\n",
       " 'Art': np.float64(27.741935483870968),\n",
       " 'Bookcases': np.float64(8.500948766603415),\n",
       " 'Envelopes': np.float64(9.449715370018975),\n",
       " 'Fasteners': np.float64(8.159392789373813),\n",
       " 'Labels': np.float64(13.130929791271347),\n",
       " 'Machines': np.float64(4.250474383301707),\n",
       " 'Tables': np.float64(11.650853889943075)}"
      ]
     },
     "metadata": {},
     "output_type": "display_data"
    },
    {
     "data": {
      "text/plain": [
       "{}"
      ]
     },
     "metadata": {},
     "output_type": "display_data"
    }
   ],
   "source": [
    "removeCategoryDups = excel.drop_duplicates(subset=['Sub-Category','Order ID'],keep='first')\n",
    "\n",
    "table = pd.crosstab(removeCategoryDups['Order ID'],removeCategoryDups['Sub-Category']) \n",
    "\n",
    "products = ['Binders','Paper','Storage','Furnishings','Copiers','Supplies','Chairs','Phones','Accessories'] \n",
    "\n",
    "##Preset sem probabilidade == 'Binders','Paper','Storage','Furnishings','Copiers','Supplies','Chairs','Phones'\n",
    "\n",
    "\n",
    "valuesWithoutProbability = {}\n",
    "values = {}\n",
    "filtered_table = table[(table[products] > 0).all(1)] \n",
    "sumProducts = 0\n",
    "\n",
    "if max(filtered_table.count()) == 0:\n",
    "     OthersProducts = table.drop(columns=products) \n",
    "\n",
    "     for c in OthersProducts:\n",
    "          sumProducts += OthersProducts[c].sum()\n",
    "\n",
    "     for i in OthersProducts:\n",
    "          sum = OthersProducts[i].sum()\n",
    "          valuesWithoutProbability.update({i:(sum/sumProducts)*100})\n",
    "else:\n",
    "     allProductsWithoutCartProducts = filtered_table.drop(columns=products) #drop the columns with the products that are in the car\n",
    "\n",
    "\n",
    "     for c in allProductsWithoutCartProducts:\n",
    "          sumProducts += allProductsWithoutCartProducts[c].sum()\n",
    "\n",
    "     values = {} #Dict to save the probabilities\n",
    "     for i in allProductsWithoutCartProducts: #Calculate the probability\n",
    "          sum = allProductsWithoutCartProducts[i].sum()\n",
    "          values.update({i:(sum/sumProducts)*100})\n",
    "          \n",
    "     \n",
    "\n",
    "display(filtered_table)\n",
    "display(valuesWithoutProbability)\n",
    "display(values)\n",
    "\n",
    "# #B\n",
    "\n",
    "\n"
   ]
  },
  {
   "cell_type": "markdown",
   "metadata": {},
   "source": [
    "### Testing code in general\n"
   ]
  },
  {
   "cell_type": "code",
   "execution_count": 4,
   "metadata": {},
   "outputs": [
    {
     "name": "stdout",
     "output_type": "stream",
     "text": [
      "Accessories 8.712121212121213\n",
      "Appliances 7.034632034632035\n",
      "Art 8.116883116883116\n",
      "Bookcases 3.0303030303030303\n",
      "Chairs 6.4393939393939394\n",
      "Copiers 1.0281385281385282\n",
      "Envelopes 2.922077922077922\n",
      "Fasteners 3.354978354978355\n",
      "Furnishings 10.714285714285714\n",
      "Labels 4.437229437229438\n",
      "Machines 1.6233766233766231\n",
      "Paper 14.880952380952381\n",
      "Phones 10.768398268398268\n",
      "Storage 10.768398268398268\n",
      "Supplies 2.326839826839827\n",
      "Tables 3.8419913419913416\n"
     ]
    },
    {
     "data": {
      "text/plain": [
       "{'Accessories': np.float64(21.413659409484044),\n",
       " 'Appliances': np.float64(13.450641216820758),\n",
       " 'Art': np.float64(21.80137190575604),\n",
       " 'Bookcases': np.float64(6.6805845511482245),\n",
       " 'Envelopes': np.float64(7.426185505517447),\n",
       " 'Fasteners': np.float64(6.412168207575306),\n",
       " 'Labels': np.float64(10.319117208470027),\n",
       " 'Machines': np.float64(3.3402922755741122),\n",
       " 'Tables': np.float64(9.155979719654042)}"
      ]
     },
     "metadata": {},
     "output_type": "display_data"
    },
    {
     "data": {
      "text/plain": [
       "'Art'"
      ]
     },
     "metadata": {},
     "output_type": "display_data"
    }
   ],
   "source": [
    "#Tentando fazer sem o primeiro produto no carrinho\n",
    "\n",
    "total_sem_products = filtered_table.drop(columns=products)\n",
    "totalProdutos = 0 \n",
    "for c in total_sem_products:\n",
    "    totalProdutos += total_sem_products[c].sum()\n",
    "\n",
    "values = {}\n",
    "\n",
    "for i in total_sem_products:\n",
    "    soma = total_sem_products[i].sum()\n",
    "    values.update({i:(soma/totalProdutos)*100})\n",
    "\n",
    "for c in values:\n",
    "    print(c,values[c])\n",
    "\n",
    "totalProdutos\n",
    "\n",
    "\n",
    "def recommendationTest(products: list) -> dict:\n",
    "     excel = pd.read_excel('./loja.xlsx')\n",
    "\n",
    "     removeCategoryDups = excel.drop_duplicates(subset=['Sub-Category','Order ID'],keep='first') #Remove Duplicates\n",
    "\n",
    "     table = pd.crosstab(removeCategoryDups['Order ID'],removeCategoryDups['Sub-Category']) #Transforming in binary\n",
    "\n",
    "     filteredTable = table[(table[products] > 0).all(1)] #Filtring\n",
    "     valuesWithoutProbability = {}\n",
    "     values = {}\n",
    "     filtered_table = table[(table[products] > 0).all(1)] \n",
    "     sumProducts = 0\n",
    "\n",
    "     if max(filteredTable.count()) == 0:\n",
    "          OthersProducts = table.drop(columns=products) \n",
    "\n",
    "          for c in OthersProducts:\n",
    "               sumProducts += OthersProducts[c].sum()\n",
    "\n",
    "          for i in OthersProducts:\n",
    "               sum = OthersProducts[i].sum()\n",
    "               valuesWithoutProbability.update({i:(sum/sumProducts)*100})\n",
    "\n",
    "          return valuesWithoutProbability\n",
    "     else:\n",
    "          allProductsWithoutCartProducts = filtered_table.drop(columns=products) #drop the columns with the products that are in the car\n",
    "\n",
    "\n",
    "          for c in allProductsWithoutCartProducts:\n",
    "               sumProducts += allProductsWithoutCartProducts[c].sum()\n",
    "\n",
    "          for i in allProductsWithoutCartProducts: #Calculate the probability\n",
    "               sum = allProductsWithoutCartProducts[i].sum()\n",
    "               values.update({i:(sum/sumProducts)*100})\n",
    "\n",
    "          return values\n",
    "\n",
    "\n",
    "def choosingRecomendedTest(products: dict):\n",
    "     df = pd.DataFrame(list(products.items()), columns=['Category', 'Value'])\n",
    "     bestProducts = df.sort_values(by=['Value'], ascending=False).head(3)\n",
    "     return bestProducts['Category'].values[0]\n",
    "\n",
    "c = recommendationTest(['Binders','Paper','Storage','Furnishings','Copiers','Supplies','Chairs','Phones'])\n",
    "d = choosingRecomendedTest(c)\n",
    "display(c)\n",
    "display(d)\n",
    "\n",
    "\n",
    "\n",
    "\n",
    "\n",
    "\n",
    "\n",
    "    \n",
    "\n",
    "# for i in filtered_table:\n",
    "#    propability = total_sem_products / total_products\n",
    "#    propabilityArray = propability*100\n",
    "\n"
   ]
  },
  {
   "cell_type": "markdown",
   "metadata": {},
   "source": [
    "## PARTE IMPORTANTE\n"
   ]
  },
  {
   "cell_type": "markdown",
   "metadata": {},
   "source": [
    "### Making funcs\n"
   ]
  },
  {
   "cell_type": "code",
   "execution_count": 5,
   "metadata": {},
   "outputs": [],
   "source": [
    "import pandas as pd\n",
    "\n",
    "def recommendation(products: list) -> dict:\n",
    "     excel = pd.read_excel('./loja.xlsx')\n",
    "\n",
    "     removeCategoryDups = excel.drop_duplicates(subset=['Sub-Category','Order ID'],keep='first') #Remove Duplicates\n",
    "\n",
    "     table = pd.crosstab(removeCategoryDups['Order ID'],removeCategoryDups['Sub-Category']) #Transforming in binary\n",
    "\n",
    "     filteredTable = table[(table[products] > 0).all(1)] #Filtring\n",
    "     \n",
    "     values = {} #Category:Probability\n",
    "\n",
    "     sumProducts = 0\n",
    "\n",
    "     if max(filteredTable.count()) == 0: #Case probability with cart products are 0\n",
    "          OthersProducts = table.drop(columns=products) \n",
    "\n",
    "          for c in OthersProducts:\n",
    "               sumProducts += OthersProducts[c].sum()\n",
    "\n",
    "          for i in OthersProducts:\n",
    "               sum = OthersProducts[i].sum()\n",
    "               values.update({i:(sum/sumProducts)*100})\n",
    "\n",
    "          return values\n",
    "     else:\n",
    "          allProductsWithoutCartProducts = filteredTable.drop(columns=products) #drop the columns with the products that are in the car\n",
    "\n",
    "          for c in allProductsWithoutCartProducts:\n",
    "               sumProducts += allProductsWithoutCartProducts[c].sum()\n",
    "\n",
    "          for i in allProductsWithoutCartProducts: #Calculate the probability\n",
    "               sum = allProductsWithoutCartProducts[i].sum()\n",
    "               values.update({i:(sum/sumProducts)*100})\n",
    "          return values\n",
    "\n",
    "\n",
    "def choosingRecomended(products: dict) -> dict:\n",
    "\n",
    "     df = pd.DataFrame(list(products.items()), columns=['Category', 'Value'])\n",
    "\n",
    "     bestProducts = df.sort_values(by=['Value'], ascending=False).head(3)\n",
    "\n",
    "     productsRec = {}\n",
    "     \n",
    "     for i in bestProducts['Category'].values:\n",
    "          productsRec.update({i:products[i]})\n",
    "\n",
    "     return productsRec\n",
    "     \n",
    "\n",
    "\n"
   ]
  },
  {
   "cell_type": "markdown",
   "metadata": {},
   "source": [
    "### Main"
   ]
  },
  {
   "cell_type": "markdown",
   "metadata": {},
   "source": [
    "Menu"
   ]
  },
  {
   "cell_type": "code",
   "execution_count": null,
   "metadata": {},
   "outputs": [],
   "source": []
  },
  {
   "cell_type": "code",
   "execution_count": 6,
   "metadata": {},
   "outputs": [
    {
     "name": "stdout",
     "output_type": "stream",
     "text": [
      "\n",
      "Bem-vindo à loja! Escolha um ou mais produtos para adicionar ao carrinho.\n",
      "Escolha uma opção: \n",
      "\n",
      "1 - Bookcases\n",
      "2 - Chairs\n",
      "3 - Labels\n",
      "4 - Tables\n",
      "5 - Storage\n",
      "6 - Furnishings\n",
      "7 - Art\n",
      "8 - Phones\n",
      "9 - Binders\n",
      "10 - Appliances\n",
      "11 - Paper\n",
      "12 - Accessories\n",
      "13 - Envelopes\n",
      "14 - Fasteners\n",
      "15 - Supplies\n",
      "16 - Machines\n",
      "17 - Copiers\n",
      "\n",
      "\n",
      "1 - Adicionar produto no carrinho\n",
      "2 - Sair da loja \n",
      "\n"
     ]
    },
    {
     "ename": "ValueError",
     "evalue": "invalid literal for int() with base 10: ''",
     "output_type": "error",
     "traceback": [
      "\u001b[1;31m---------------------------------------------------------------------------\u001b[0m",
      "\u001b[1;31mValueError\u001b[0m                                Traceback (most recent call last)",
      "\u001b[1;32mc:\\Users\\miguelaraujo-ieg\\OneDrive - Instituto Germinare\\2º ANO\\Mat - Aplicada a Ciência de Dados\\ProbabilityAnalitics\\analise.ipynb Célula 18\u001b[0m line \u001b[0;36m3\n\u001b[0;32m     <a href='vscode-notebook-cell:/c%3A/Users/miguelaraujo-ieg/OneDrive%20-%20Instituto%20Germinare/2%C2%BA%20ANO/Mat%20-%20Aplicada%20a%20Ci%C3%AAncia%20de%20Dados/ProbabilityAnalitics/analise.ipynb#X23sZmlsZQ%3D%3D?line=32'>33</a>\u001b[0m         \u001b[39melse\u001b[39;00m:\n\u001b[0;32m     <a href='vscode-notebook-cell:/c%3A/Users/miguelaraujo-ieg/OneDrive%20-%20Instituto%20Germinare/2%C2%BA%20ANO/Mat%20-%20Aplicada%20a%20Ci%C3%AAncia%20de%20Dados/ProbabilityAnalitics/analise.ipynb#X23sZmlsZQ%3D%3D?line=33'>34</a>\u001b[0m             \u001b[39mprint\u001b[39m(\u001b[39m\"\u001b[39m\u001b[39mde 1 a 2\u001b[39m\u001b[39m\"\u001b[39m)\n\u001b[1;32m---> <a href='vscode-notebook-cell:/c%3A/Users/miguelaraujo-ieg/OneDrive%20-%20Instituto%20Germinare/2%C2%BA%20ANO/Mat%20-%20Aplicada%20a%20Ci%C3%AAncia%20de%20Dados/ProbabilityAnalitics/analise.ipynb#X23sZmlsZQ%3D%3D?line=34'>35</a>\u001b[0m menu()\n",
      "\u001b[1;32mc:\\Users\\miguelaraujo-ieg\\OneDrive - Instituto Germinare\\2º ANO\\Mat - Aplicada a Ciência de Dados\\ProbabilityAnalitics\\analise.ipynb Célula 18\u001b[0m line \u001b[0;36m2\n\u001b[0;32m     <a href='vscode-notebook-cell:/c%3A/Users/miguelaraujo-ieg/OneDrive%20-%20Instituto%20Germinare/2%C2%BA%20ANO/Mat%20-%20Aplicada%20a%20Ci%C3%AAncia%20de%20Dados/ProbabilityAnalitics/analise.ipynb#X23sZmlsZQ%3D%3D?line=18'>19</a>\u001b[0m \u001b[39mprint\u001b[39m(\u001b[39m\"\u001b[39m\u001b[39m\\n\u001b[39;00m\u001b[39m\\n\u001b[39;00m\u001b[39m1 - Adicionar produto no carrinho\u001b[39m\u001b[39m\"\u001b[39m)\n\u001b[0;32m     <a href='vscode-notebook-cell:/c%3A/Users/miguelaraujo-ieg/OneDrive%20-%20Instituto%20Germinare/2%C2%BA%20ANO/Mat%20-%20Aplicada%20a%20Ci%C3%AAncia%20de%20Dados/ProbabilityAnalitics/analise.ipynb#X23sZmlsZQ%3D%3D?line=19'>20</a>\u001b[0m \u001b[39mprint\u001b[39m(\u001b[39m\"\u001b[39m\u001b[39m2 - Sair da loja \u001b[39m\u001b[39m\\n\u001b[39;00m\u001b[39m\"\u001b[39m)\n\u001b[1;32m---> <a href='vscode-notebook-cell:/c%3A/Users/miguelaraujo-ieg/OneDrive%20-%20Instituto%20Germinare/2%C2%BA%20ANO/Mat%20-%20Aplicada%20a%20Ci%C3%AAncia%20de%20Dados/ProbabilityAnalitics/analise.ipynb#X23sZmlsZQ%3D%3D?line=20'>21</a>\u001b[0m opcao \u001b[39m=\u001b[39m \u001b[39mint\u001b[39;49m(\u001b[39minput\u001b[39;49m(\u001b[39m\"\u001b[39;49m\u001b[39mDigite sua opção:\u001b[39;49m\u001b[39m\"\u001b[39;49m))\n\u001b[0;32m     <a href='vscode-notebook-cell:/c%3A/Users/miguelaraujo-ieg/OneDrive%20-%20Instituto%20Germinare/2%C2%BA%20ANO/Mat%20-%20Aplicada%20a%20Ci%C3%AAncia%20de%20Dados/ProbabilityAnalitics/analise.ipynb#X23sZmlsZQ%3D%3D?line=21'>22</a>\u001b[0m \u001b[39mif\u001b[39;00m(opcao \u001b[39m==\u001b[39m \u001b[39m1\u001b[39m):\n\u001b[0;32m     <a href='vscode-notebook-cell:/c%3A/Users/miguelaraujo-ieg/OneDrive%20-%20Instituto%20Germinare/2%C2%BA%20ANO/Mat%20-%20Aplicada%20a%20Ci%C3%AAncia%20de%20Dados/ProbabilityAnalitics/analise.ipynb#X23sZmlsZQ%3D%3D?line=22'>23</a>\u001b[0m     \u001b[39mprint\u001b[39m(\u001b[39m\"\u001b[39m\u001b[39mdigite seu carrinho\u001b[39m\u001b[39m\"\u001b[39m)\n",
      "\u001b[1;31mValueError\u001b[0m: invalid literal for int() with base 10: ''"
     ]
    }
   ],
   "source": [
    "# Função para exibir o menu de categorias\n",
    "#lógica\n",
    "#Carrinho = input() \n",
    "#Pegar o carrinho inteiro do user\n",
    "#Tem que ser dividido por ponto e vírgula\n",
    "#Produto = split do carrinho, primeiro produto\n",
    "#Processo intersecção\n",
    "#Comparar com o próximo item do carrinho\n",
    "#Mostrar nome, porcentagem,\n",
    "#Finalizar \n",
    "#É um for com base no carrinho size\n",
    "def menu():\n",
    "    print(\"\\nBem-vindo à loja! Escolha um ou mais produtos para adicionar ao carrinho.\")\n",
    "    categorias = excel['Sub-Category'].unique()  # Pega as categorias únicas\n",
    "    print(\"Escolha uma opção: \\n\")\n",
    "    for i, categoria in enumerate(categorias, start=1):\n",
    "        print(f\"{i} - {categoria}\")\n",
    "    while True:\n",
    "        print(\"\\n\\n1 - Adicionar produto no carrinho\")\n",
    "        print(\"2 - Sair da loja \\n\")\n",
    "        opcao = int(input(\"Digite sua opção:\"))\n",
    "        if(opcao == 1):\n",
    "            print(\"digite seu carrinho\")\n",
    "            carrinho = str(input(\"\\n\\ndigite o seu carrinho\"))\n",
    "            print(carrinho)\n",
    "            array = carrinho.split(\", \")\n",
    "            produtoo = recommendation(array)\n",
    "            proximo_produto = choosingRecomended(produtoo)\n",
    "            print(proximo_produto)\n",
    "        elif(opcao == 2):\n",
    "            print(\"Saindo...\")\n",
    "            break\n",
    "        else:\n",
    "            print(\"de 1 a 2\")\n",
    "menu()"
   ]
  },
  {
   "cell_type": "code",
   "execution_count": null,
   "metadata": {},
   "outputs": [],
   "source": []
  }
 ],
 "metadata": {
  "kernelspec": {
   "display_name": "Python 3",
   "language": "python",
   "name": "python3"
  },
  "language_info": {
   "codemirror_mode": {
    "name": "ipython",
    "version": 3
   },
   "file_extension": ".py",
   "mimetype": "text/x-python",
   "name": "python",
   "nbconvert_exporter": "python",
   "pygments_lexer": "ipython3",
   "version": "3.11.9"
  }
 },
 "nbformat": 4,
 "nbformat_minor": 2
}
