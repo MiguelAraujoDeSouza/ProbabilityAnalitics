{
 "cells": [
  {
   "cell_type": "markdown",
   "metadata": {},
   "source": [
    "# Project"
   ]
  },
  {
   "cell_type": "markdown",
   "metadata": {},
   "source": [
    "#### Responses \n",
    "\n",
    "<p>\n",
    "    EX 1 :\n",
    "    Binders are the most popular Sub-Category, Binders has the 14,3% of buy with a void marketkart\n",
    "</p>"
   ]
  },
  {
   "cell_type": "markdown",
   "metadata": {},
   "source": [
    "### A FAZER \n",
    "##### *Mudar para dict o getting probabilities"
   ]
  },
  {
   "cell_type": "markdown",
   "metadata": {},
   "source": [
    "#### Libs"
   ]
  },
  {
   "cell_type": "code",
   "execution_count": 1,
   "metadata": {},
   "outputs": [],
   "source": [
    "import pandas as pd\n"
   ]
  },
  {
   "cell_type": "markdown",
   "metadata": {},
   "source": [
    "#### Reading .xlsx\n"
   ]
  },
  {
   "cell_type": "code",
   "execution_count": 65,
   "metadata": {},
   "outputs": [
    {
     "data": {
      "text/html": [
       "<div>\n",
       "<style scoped>\n",
       "    .dataframe tbody tr th:only-of-type {\n",
       "        vertical-align: middle;\n",
       "    }\n",
       "\n",
       "    .dataframe tbody tr th {\n",
       "        vertical-align: top;\n",
       "    }\n",
       "\n",
       "    .dataframe thead th {\n",
       "        text-align: right;\n",
       "    }\n",
       "</style>\n",
       "<table border=\"1\" class=\"dataframe\">\n",
       "  <thead>\n",
       "    <tr style=\"text-align: right;\">\n",
       "      <th></th>\n",
       "      <th>Order ID</th>\n",
       "    </tr>\n",
       "  </thead>\n",
       "  <tbody>\n",
       "    <tr>\n",
       "      <th>0</th>\n",
       "      <td>CA-2016-152156</td>\n",
       "    </tr>\n",
       "    <tr>\n",
       "      <th>1</th>\n",
       "      <td>CA-2016-152156</td>\n",
       "    </tr>\n",
       "    <tr>\n",
       "      <th>2</th>\n",
       "      <td>CA-2016-138688</td>\n",
       "    </tr>\n",
       "    <tr>\n",
       "      <th>3</th>\n",
       "      <td>US-2015-108966</td>\n",
       "    </tr>\n",
       "    <tr>\n",
       "      <th>4</th>\n",
       "      <td>US-2015-108966</td>\n",
       "    </tr>\n",
       "  </tbody>\n",
       "</table>\n",
       "</div>"
      ],
      "text/plain": [
       "         Order ID\n",
       "0  CA-2016-152156\n",
       "1  CA-2016-152156\n",
       "2  CA-2016-138688\n",
       "3  US-2015-108966\n",
       "4  US-2015-108966"
      ]
     },
     "metadata": {},
     "output_type": "display_data"
    },
    {
     "data": {
      "text/html": [
       "<div>\n",
       "<style scoped>\n",
       "    .dataframe tbody tr th:only-of-type {\n",
       "        vertical-align: middle;\n",
       "    }\n",
       "\n",
       "    .dataframe tbody tr th {\n",
       "        vertical-align: top;\n",
       "    }\n",
       "\n",
       "    .dataframe thead th {\n",
       "        text-align: right;\n",
       "    }\n",
       "</style>\n",
       "<table border=\"1\" class=\"dataframe\">\n",
       "  <thead>\n",
       "    <tr style=\"text-align: right;\">\n",
       "      <th></th>\n",
       "      <th>Sub-Category</th>\n",
       "    </tr>\n",
       "  </thead>\n",
       "  <tbody>\n",
       "    <tr>\n",
       "      <th>0</th>\n",
       "      <td>Bookcases</td>\n",
       "    </tr>\n",
       "    <tr>\n",
       "      <th>1</th>\n",
       "      <td>Chairs</td>\n",
       "    </tr>\n",
       "    <tr>\n",
       "      <th>2</th>\n",
       "      <td>Labels</td>\n",
       "    </tr>\n",
       "    <tr>\n",
       "      <th>3</th>\n",
       "      <td>Tables</td>\n",
       "    </tr>\n",
       "    <tr>\n",
       "      <th>4</th>\n",
       "      <td>Storage</td>\n",
       "    </tr>\n",
       "  </tbody>\n",
       "</table>\n",
       "</div>"
      ],
      "text/plain": [
       "  Sub-Category\n",
       "0    Bookcases\n",
       "1       Chairs\n",
       "2       Labels\n",
       "3       Tables\n",
       "4      Storage"
      ]
     },
     "metadata": {},
     "output_type": "display_data"
    }
   ],
   "source": [
    "excel = pd.read_excel('./loja.xlsx')\n",
    "\n",
    "orderIds = excel['Order ID']\n",
    "subCategory = excel['Sub-Category']\n",
    "\n",
    "subCategory = pd.DataFrame(subCategory)\n",
    "orderIds = pd.DataFrame(orderIds)\n",
    "\n",
    "\n",
    "display(orderIds.head())\n",
    "display(subCategory.head())"
   ]
  },
  {
   "cell_type": "markdown",
   "metadata": {},
   "source": [
    "#### Removing duplicates from Sub-Categorys"
   ]
  },
  {
   "cell_type": "code",
   "execution_count": 24,
   "metadata": {},
   "outputs": [
    {
     "data": {
      "text/plain": [
       "Sub-Category\n",
       "Binders        1316\n",
       "Paper          1191\n",
       "Furnishings     877\n",
       "Phones          814\n",
       "Storage         777\n",
       "Art             731\n",
       "Accessories     718\n",
       "Chairs          576\n",
       "Appliances      451\n",
       "Labels          346\n",
       "Tables          307\n",
       "Envelopes       249\n",
       "Bookcases       224\n",
       "Fasteners       215\n",
       "Supplies        187\n",
       "Machines        112\n",
       "Copiers          68\n",
       "Name: count, dtype: int64"
      ]
     },
     "metadata": {},
     "output_type": "display_data"
    }
   ],
   "source": [
    "removeCategoryDups = excel.drop_duplicates(subset=['Sub-Category','Order ID'],keep='first').value_counts('Sub-Category')\n",
    "\n",
    "display(removeCategoryDups)\n",
    "\n"
   ]
  },
  {
   "cell_type": "markdown",
   "metadata": {},
   "source": [
    "#### Countting all the products"
   ]
  },
  {
   "cell_type": "code",
   "execution_count": 25,
   "metadata": {},
   "outputs": [
    {
     "name": "stdout",
     "output_type": "stream",
     "text": [
      "9159\n"
     ]
    }
   ],
   "source": [
    "result = 0\n",
    "for value in removeCategoryDups:\n",
    "    result+=value\n",
    "\n",
    "print(result)"
   ]
  },
  {
   "cell_type": "markdown",
   "metadata": {},
   "source": [
    "#### Getting the odds\n",
    "\n"
   ]
  },
  {
   "cell_type": "code",
   "execution_count": 64,
   "metadata": {},
   "outputs": [
    {
     "name": "stdout",
     "output_type": "stream",
     "text": [
      "14.368380827601266\n",
      "13.003603013429412\n",
      "9.57528114422972\n",
      "8.887433125887105\n",
      "8.483458892892237\n",
      "7.981220657276995\n",
      "7.839283764603122\n",
      "6.288896167703897\n",
      "4.9241183535320445\n",
      "3.7777049896276886\n",
      "3.3518943116060704\n",
      "2.718637405830331\n",
      "2.44568184299596\n",
      "2.3474178403755865\n",
      "2.041707610001092\n",
      "1.22284092149798\n",
      "0.742439130909488\n"
     ]
    }
   ],
   "source": [
    "propabilityArray = []\n",
    "for c in removeCategoryDups:\n",
    "    propability = c / result\n",
    "    propabilityArray.append(propability*100)\n",
    "\n",
    "for c in propabilityArray:\n",
    "    print(c)\n",
    "\n",
    "\n",
    "#EX 1 \n",
    "#Binders are the most popular Sub-Category, Binders has the 14,3% of buy with a void marketkart"
   ]
  },
  {
   "cell_type": "code",
   "execution_count": null,
   "metadata": {},
   "outputs": [],
   "source": []
  }
 ],
 "metadata": {
  "kernelspec": {
   "display_name": "Python 3",
   "language": "python",
   "name": "python3"
  },
  "language_info": {
   "codemirror_mode": {
    "name": "ipython",
    "version": 3
   },
   "file_extension": ".py",
   "mimetype": "text/x-python",
   "name": "python",
   "nbconvert_exporter": "python",
   "pygments_lexer": "ipython3",
   "version": "3.11.9"
  }
 },
 "nbformat": 4,
 "nbformat_minor": 2
}
