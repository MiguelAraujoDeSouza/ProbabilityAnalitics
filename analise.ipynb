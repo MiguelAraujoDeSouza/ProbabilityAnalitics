{
 "cells": [
  {
   "cell_type": "markdown",
   "metadata": {},
   "source": [
    "# Project"
   ]
  },
  {
   "cell_type": "markdown",
   "metadata": {},
   "source": [
    "## Tests"
   ]
  },
  {
   "cell_type": "markdown",
   "metadata": {},
   "source": [
    "#### Libs"
   ]
  },
  {
   "cell_type": "code",
   "execution_count": 1,
   "metadata": {},
   "outputs": [],
   "source": [
    "import pandas as pd\n"
   ]
  },
  {
   "cell_type": "markdown",
   "metadata": {},
   "source": [
    "#### Reading .xlsx\n"
   ]
  },
  {
   "cell_type": "code",
   "execution_count": 3,
   "metadata": {},
   "outputs": [
    {
     "data": {
      "text/html": [
       "<div>\n",
       "<style scoped>\n",
       "    .dataframe tbody tr th:only-of-type {\n",
       "        vertical-align: middle;\n",
       "    }\n",
       "\n",
       "    .dataframe tbody tr th {\n",
       "        vertical-align: top;\n",
       "    }\n",
       "\n",
       "    .dataframe thead th {\n",
       "        text-align: right;\n",
       "    }\n",
       "</style>\n",
       "<table border=\"1\" class=\"dataframe\">\n",
       "  <thead>\n",
       "    <tr style=\"text-align: right;\">\n",
       "      <th></th>\n",
       "      <th>Order ID</th>\n",
       "    </tr>\n",
       "  </thead>\n",
       "  <tbody>\n",
       "    <tr>\n",
       "      <th>0</th>\n",
       "      <td>CA-2016-152156</td>\n",
       "    </tr>\n",
       "    <tr>\n",
       "      <th>1</th>\n",
       "      <td>CA-2016-152156</td>\n",
       "    </tr>\n",
       "    <tr>\n",
       "      <th>2</th>\n",
       "      <td>CA-2016-138688</td>\n",
       "    </tr>\n",
       "    <tr>\n",
       "      <th>3</th>\n",
       "      <td>US-2015-108966</td>\n",
       "    </tr>\n",
       "    <tr>\n",
       "      <th>4</th>\n",
       "      <td>US-2015-108966</td>\n",
       "    </tr>\n",
       "  </tbody>\n",
       "</table>\n",
       "</div>"
      ],
      "text/plain": [
       "         Order ID\n",
       "0  CA-2016-152156\n",
       "1  CA-2016-152156\n",
       "2  CA-2016-138688\n",
       "3  US-2015-108966\n",
       "4  US-2015-108966"
      ]
     },
     "metadata": {},
     "output_type": "display_data"
    },
    {
     "data": {
      "text/html": [
       "<div>\n",
       "<style scoped>\n",
       "    .dataframe tbody tr th:only-of-type {\n",
       "        vertical-align: middle;\n",
       "    }\n",
       "\n",
       "    .dataframe tbody tr th {\n",
       "        vertical-align: top;\n",
       "    }\n",
       "\n",
       "    .dataframe thead th {\n",
       "        text-align: right;\n",
       "    }\n",
       "</style>\n",
       "<table border=\"1\" class=\"dataframe\">\n",
       "  <thead>\n",
       "    <tr style=\"text-align: right;\">\n",
       "      <th></th>\n",
       "      <th>Sub-Category</th>\n",
       "    </tr>\n",
       "  </thead>\n",
       "  <tbody>\n",
       "    <tr>\n",
       "      <th>0</th>\n",
       "      <td>Bookcases</td>\n",
       "    </tr>\n",
       "    <tr>\n",
       "      <th>1</th>\n",
       "      <td>Chairs</td>\n",
       "    </tr>\n",
       "    <tr>\n",
       "      <th>2</th>\n",
       "      <td>Labels</td>\n",
       "    </tr>\n",
       "    <tr>\n",
       "      <th>3</th>\n",
       "      <td>Tables</td>\n",
       "    </tr>\n",
       "    <tr>\n",
       "      <th>4</th>\n",
       "      <td>Storage</td>\n",
       "    </tr>\n",
       "  </tbody>\n",
       "</table>\n",
       "</div>"
      ],
      "text/plain": [
       "  Sub-Category\n",
       "0    Bookcases\n",
       "1       Chairs\n",
       "2       Labels\n",
       "3       Tables\n",
       "4      Storage"
      ]
     },
     "metadata": {},
     "output_type": "display_data"
    }
   ],
   "source": [
    "excel = pd.read_excel('./loja.xlsx')\n",
    "\n",
    "orderIds = excel['Order ID']\n",
    "subCategory = excel['Sub-Category']\n",
    "\n",
    "subCategory = pd.DataFrame(subCategory)\n",
    "orderIds = pd.DataFrame(orderIds)\n",
    "\n",
    "\n",
    "display(orderIds.head())\n",
    "display(subCategory.head())"
   ]
  },
  {
   "cell_type": "markdown",
   "metadata": {},
   "source": [
    "### Testing functions\n"
   ]
  },
  {
   "cell_type": "markdown",
   "metadata": {},
   "source": [
    "<p>\n",
    "    basicly, transforming data in binary, 1 for ID who has item in column and 0 who hasnt\n",
    "    and before, filtring the products to can count the most popular new recomendation\n",
    "</p>"
   ]
  },
  {
   "cell_type": "code",
   "execution_count": 47,
   "metadata": {},
   "outputs": [
    {
     "ename": "KeyError",
     "evalue": "\"['Fastners'] not in index\"",
     "output_type": "error",
     "traceback": [
      "\u001b[1;31m---------------------------------------------------------------------------\u001b[0m",
      "\u001b[1;31mKeyError\u001b[0m                                  Traceback (most recent call last)",
      "\u001b[1;32mc:\\Users\\miguelaraujo-ieg\\OneDrive - Instituto Germinare\\2º ANO\\Mat - Aplicada a Ciência de Dados\\ProbabilityAnalitics\\analise.ipynb Célula 9\u001b[0m line \u001b[0;36m1\n\u001b[0;32m     <a href='vscode-notebook-cell:/c%3A/Users/miguelaraujo-ieg/OneDrive%20-%20Instituto%20Germinare/2%C2%BA%20ANO/Mat%20-%20Aplicada%20a%20Ci%C3%AAncia%20de%20Dados/ProbabilityAnalitics/analise.ipynb#X31sZmlsZQ%3D%3D?line=10'>11</a>\u001b[0m valuesWithoutProbability \u001b[39m=\u001b[39m {}\n\u001b[0;32m     <a href='vscode-notebook-cell:/c%3A/Users/miguelaraujo-ieg/OneDrive%20-%20Instituto%20Germinare/2%C2%BA%20ANO/Mat%20-%20Aplicada%20a%20Ci%C3%AAncia%20de%20Dados/ProbabilityAnalitics/analise.ipynb#X31sZmlsZQ%3D%3D?line=11'>12</a>\u001b[0m values \u001b[39m=\u001b[39m {}\n\u001b[1;32m---> <a href='vscode-notebook-cell:/c%3A/Users/miguelaraujo-ieg/OneDrive%20-%20Instituto%20Germinare/2%C2%BA%20ANO/Mat%20-%20Aplicada%20a%20Ci%C3%AAncia%20de%20Dados/ProbabilityAnalitics/analise.ipynb#X31sZmlsZQ%3D%3D?line=12'>13</a>\u001b[0m filtered_table \u001b[39m=\u001b[39m table[(table[products] \u001b[39m>\u001b[39m \u001b[39m0\u001b[39m)\u001b[39m.\u001b[39mall(\u001b[39m1\u001b[39m)] \n\u001b[0;32m     <a href='vscode-notebook-cell:/c%3A/Users/miguelaraujo-ieg/OneDrive%20-%20Instituto%20Germinare/2%C2%BA%20ANO/Mat%20-%20Aplicada%20a%20Ci%C3%AAncia%20de%20Dados/ProbabilityAnalitics/analise.ipynb#X31sZmlsZQ%3D%3D?line=13'>14</a>\u001b[0m sumProducts \u001b[39m=\u001b[39m \u001b[39m0\u001b[39m\n\u001b[0;32m     <a href='vscode-notebook-cell:/c%3A/Users/miguelaraujo-ieg/OneDrive%20-%20Instituto%20Germinare/2%C2%BA%20ANO/Mat%20-%20Aplicada%20a%20Ci%C3%AAncia%20de%20Dados/ProbabilityAnalitics/analise.ipynb#X31sZmlsZQ%3D%3D?line=15'>16</a>\u001b[0m \u001b[39mif\u001b[39;00m \u001b[39mmax\u001b[39m(filtered_table\u001b[39m.\u001b[39mcount()) \u001b[39m==\u001b[39m \u001b[39m0\u001b[39m:\n",
      "File \u001b[1;32m~\\AppData\\Local\\Packages\\PythonSoftwareFoundation.Python.3.11_qbz5n2kfra8p0\\LocalCache\\local-packages\\Python311\\site-packages\\pandas\\core\\frame.py:4108\u001b[0m, in \u001b[0;36mDataFrame.__getitem__\u001b[1;34m(self, key)\u001b[0m\n\u001b[0;32m   4106\u001b[0m     \u001b[39mif\u001b[39;00m is_iterator(key):\n\u001b[0;32m   4107\u001b[0m         key \u001b[39m=\u001b[39m \u001b[39mlist\u001b[39m(key)\n\u001b[1;32m-> 4108\u001b[0m     indexer \u001b[39m=\u001b[39m \u001b[39mself\u001b[39;49m\u001b[39m.\u001b[39;49mcolumns\u001b[39m.\u001b[39;49m_get_indexer_strict(key, \u001b[39m\"\u001b[39;49m\u001b[39mcolumns\u001b[39;49m\u001b[39m\"\u001b[39;49m)[\u001b[39m1\u001b[39m]\n\u001b[0;32m   4110\u001b[0m \u001b[39m# take() does not accept boolean indexers\u001b[39;00m\n\u001b[0;32m   4111\u001b[0m \u001b[39mif\u001b[39;00m \u001b[39mgetattr\u001b[39m(indexer, \u001b[39m\"\u001b[39m\u001b[39mdtype\u001b[39m\u001b[39m\"\u001b[39m, \u001b[39mNone\u001b[39;00m) \u001b[39m==\u001b[39m \u001b[39mbool\u001b[39m:\n",
      "File \u001b[1;32m~\\AppData\\Local\\Packages\\PythonSoftwareFoundation.Python.3.11_qbz5n2kfra8p0\\LocalCache\\local-packages\\Python311\\site-packages\\pandas\\core\\indexes\\base.py:6200\u001b[0m, in \u001b[0;36mIndex._get_indexer_strict\u001b[1;34m(self, key, axis_name)\u001b[0m\n\u001b[0;32m   6197\u001b[0m \u001b[39melse\u001b[39;00m:\n\u001b[0;32m   6198\u001b[0m     keyarr, indexer, new_indexer \u001b[39m=\u001b[39m \u001b[39mself\u001b[39m\u001b[39m.\u001b[39m_reindex_non_unique(keyarr)\n\u001b[1;32m-> 6200\u001b[0m \u001b[39mself\u001b[39;49m\u001b[39m.\u001b[39;49m_raise_if_missing(keyarr, indexer, axis_name)\n\u001b[0;32m   6202\u001b[0m keyarr \u001b[39m=\u001b[39m \u001b[39mself\u001b[39m\u001b[39m.\u001b[39mtake(indexer)\n\u001b[0;32m   6203\u001b[0m \u001b[39mif\u001b[39;00m \u001b[39misinstance\u001b[39m(key, Index):\n\u001b[0;32m   6204\u001b[0m     \u001b[39m# GH 42790 - Preserve name from an Index\u001b[39;00m\n",
      "File \u001b[1;32m~\\AppData\\Local\\Packages\\PythonSoftwareFoundation.Python.3.11_qbz5n2kfra8p0\\LocalCache\\local-packages\\Python311\\site-packages\\pandas\\core\\indexes\\base.py:6252\u001b[0m, in \u001b[0;36mIndex._raise_if_missing\u001b[1;34m(self, key, indexer, axis_name)\u001b[0m\n\u001b[0;32m   6249\u001b[0m     \u001b[39mraise\u001b[39;00m \u001b[39mKeyError\u001b[39;00m(\u001b[39mf\u001b[39m\u001b[39m\"\u001b[39m\u001b[39mNone of [\u001b[39m\u001b[39m{\u001b[39;00mkey\u001b[39m}\u001b[39;00m\u001b[39m] are in the [\u001b[39m\u001b[39m{\u001b[39;00maxis_name\u001b[39m}\u001b[39;00m\u001b[39m]\u001b[39m\u001b[39m\"\u001b[39m)\n\u001b[0;32m   6251\u001b[0m not_found \u001b[39m=\u001b[39m \u001b[39mlist\u001b[39m(ensure_index(key)[missing_mask\u001b[39m.\u001b[39mnonzero()[\u001b[39m0\u001b[39m]]\u001b[39m.\u001b[39munique())\n\u001b[1;32m-> 6252\u001b[0m \u001b[39mraise\u001b[39;00m \u001b[39mKeyError\u001b[39;00m(\u001b[39mf\u001b[39m\u001b[39m\"\u001b[39m\u001b[39m{\u001b[39;00mnot_found\u001b[39m}\u001b[39;00m\u001b[39m not in index\u001b[39m\u001b[39m\"\u001b[39m)\n",
      "\u001b[1;31mKeyError\u001b[0m: \"['Fastners'] not in index\""
     ]
    }
   ],
   "source": [
    "removeCategoryDups = excel.drop_duplicates(subset=['Sub-Category','Order ID'],keep='first')\n",
    "\n",
    "table = pd.crosstab(removeCategoryDups['Order ID'],removeCategoryDups['Sub-Category']) \n",
    "\n",
    "products = ['Binders','Paper','Storage','Furnishings','Copiers','Supplies','Chairs','Phones','Art','Accessories','Appliances','Tables','Labels',\n",
    "                    'Envelopes','Fastners','Machines'] \n",
    "\n",
    "##Preset sem probabilidade == 'Binders','Paper','Storage','Furnishings','Copiers','Supplies','Chairs','Phones'\n",
    "\n",
    "\n",
    "valuesWithoutProbability = {}\n",
    "values = {}\n",
    "filtered_table = table[(table[products] > 0).all(1)] \n",
    "sumProducts = 0\n",
    "\n",
    "if max(filtered_table.count()) == 0:\n",
    "     OthersProducts = table.drop(columns=products) \n",
    "\n",
    "     for c in OthersProducts:\n",
    "          sumProducts += OthersProducts[c].sum()\n",
    "\n",
    "     for i in OthersProducts:\n",
    "          sum = OthersProducts[i].sum()\n",
    "          valuesWithoutProbability.update({i:(sum/sumProducts)*100})\n",
    "else:\n",
    "     allProductsWithoutCartProducts = filtered_table.drop(columns=products) #drop the columns with the products that are in the car\n",
    "\n",
    "\n",
    "     for c in allProductsWithoutCartProducts:\n",
    "          sumProducts += allProductsWithoutCartProducts[c].sum()\n",
    "\n",
    "     values = {} #Dict to save the probabilities\n",
    "     for i in allProductsWithoutCartProducts: #Calculate the probability\n",
    "          sum = allProductsWithoutCartProducts[i].sum()\n",
    "          values.update({i:(sum/sumProducts)*100})\n",
    "          \n",
    "     \n",
    "\n",
    "display(filtered_table)\n",
    "display(valuesWithoutProbability)\n",
    "display(values)\n",
    "\n",
    "# #B\n",
    "\n",
    "\n"
   ]
  },
  {
   "cell_type": "markdown",
   "metadata": {},
   "source": [
    "### Testing code in general\n"
   ]
  },
  {
   "cell_type": "code",
   "execution_count": null,
   "metadata": {},
   "outputs": [],
   "source": [
    "#Tentando fazer sem o primeiro produto no carrinho\n",
    "\n",
    "total_sem_products = filtered_table.drop(columns=products)\n",
    "totalProdutos = 0 \n",
    "for c in total_sem_products:\n",
    "    totalProdutos += total_sem_products[c].sum()\n",
    "\n",
    "values = {}\n",
    "\n",
    "for i in total_sem_products:\n",
    "    soma = total_sem_products[i].sum()\n",
    "    values.update({i:(soma/totalProdutos)*100})\n",
    "\n",
    "for c in values:\n",
    "    print(c,values[c])\n",
    "\n",
    "totalProdutos\n",
    "\n",
    "\n",
    "def recommendationTest(products: list) -> dict:\n",
    "     excel = pd.read_excel('./loja.xlsx')\n",
    "\n",
    "     removeCategoryDups = excel.drop_duplicates(subset=['Sub-Category','Order ID'],keep='first') #Remove Duplicates\n",
    "\n",
    "     table = pd.crosstab(removeCategoryDups['Order ID'],removeCategoryDups['Sub-Category']) #Transforming in binary\n",
    "\n",
    "     filteredTable = table[(table[products] > 0).all(1)] #Filtring\n",
    "     valuesWithoutProbability = {}\n",
    "     values = {}\n",
    "     filtered_table = table[(table[products] > 0).all(1)] \n",
    "     sumProducts = 0\n",
    "\n",
    "     if max(filteredTable.count()) == 0:\n",
    "          OthersProducts = table.drop(columns=products) \n",
    "\n",
    "          for c in OthersProducts:\n",
    "               sumProducts += OthersProducts[c].sum()\n",
    "\n",
    "          for i in OthersProducts:\n",
    "               sum = OthersProducts[i].sum()\n",
    "               valuesWithoutProbability.update({i:(sum/sumProducts)*100})\n",
    "\n",
    "          return valuesWithoutProbability\n",
    "     else:\n",
    "          allProductsWithoutCartProducts = filtered_table.drop(columns=products) #drop the columns with the products that are in the car\n",
    "\n",
    "\n",
    "          for c in allProductsWithoutCartProducts:\n",
    "               sumProducts += allProductsWithoutCartProducts[c].sum()\n",
    "\n",
    "          for i in allProductsWithoutCartProducts: #Calculate the probability\n",
    "               sum = allProductsWithoutCartProducts[i].sum()\n",
    "               values.update({i:(sum/sumProducts)*100})\n",
    "\n",
    "          return values\n",
    "\n",
    "\n",
    "def choosingRecomendedTest(products: dict):\n",
    "     df = pd.DataFrame(list(products.items()), columns=['Category', 'Value'])\n",
    "     bestProducts = df.sort_values(by=['Value'], ascending=False).head(3)\n",
    "     return bestProducts['Category'].values[0]\n",
    "\n",
    "c = recommendationTest(['Binders','Paper','Storage','Furnishings','Copiers','Supplies','Chairs','Phones'])\n",
    "d = choosingRecomendedTest(c)\n",
    "display(c)\n",
    "display(d)\n",
    "\n",
    "\n",
    "\n",
    "\n",
    "\n",
    "\n",
    "\n",
    "    \n",
    "\n",
    "# for i in filtered_table:\n",
    "#    propability = total_sem_products / total_products\n",
    "#    propabilityArray = propability*100\n",
    "\n"
   ]
  },
  {
   "cell_type": "markdown",
   "metadata": {},
   "source": [
    "## PARTE IMPORTANTE\n"
   ]
  },
  {
   "cell_type": "markdown",
   "metadata": {},
   "source": [
    "### Making funcs\n"
   ]
  },
  {
   "cell_type": "code",
   "execution_count": 39,
   "metadata": {},
   "outputs": [],
   "source": [
    "import pandas as pd\n",
    "\n",
    "def recommendation(products: list) -> dict:\n",
    "     excel = pd.read_excel('./loja.xlsx')\n",
    "\n",
    "     removeCategoryDups = excel.drop_duplicates(subset=['Sub-Category','Order ID'],keep='first') #Remove Duplicates\n",
    "\n",
    "     table = pd.crosstab(removeCategoryDups['Order ID'],removeCategoryDups['Sub-Category']) #Transforming in binary\n",
    "\n",
    "     filteredTable = table[(table[products] > 0).all(1)] #Filtring\n",
    "     \n",
    "     values = {} #Category:Probability\n",
    "\n",
    "     sumProducts = 0\n",
    "\n",
    "     if max(filteredTable.count()) == 0: #Case probability with cart products are 0\n",
    "          OthersProducts = table.drop(columns=products) \n",
    "\n",
    "          for c in OthersProducts:\n",
    "               sumProducts += OthersProducts[c].sum()\n",
    "\n",
    "          for i in OthersProducts:\n",
    "               sum = OthersProducts[i].sum()\n",
    "               values.update({i:(sum/sumProducts)*100})\n",
    "\n",
    "          return values\n",
    "     else:\n",
    "          allProductsWithoutCartProducts = filteredTable.drop(columns=products) #drop the columns with the products that are in the car\n",
    "\n",
    "          for c in allProductsWithoutCartProducts:\n",
    "               sumProducts += allProductsWithoutCartProducts[c].sum()\n",
    "\n",
    "          for i in allProductsWithoutCartProducts: #Calculate the probability\n",
    "               sum = allProductsWithoutCartProducts[i].sum()\n",
    "               values.update({i:(sum/sumProducts)*100})\n",
    "          return values\n",
    "\n",
    "\n",
    "def choosingRecomended(products: dict) -> dict:\n",
    "\n",
    "     df = pd.DataFrame(list(products.items()), columns=['Category', 'Value'])\n",
    "\n",
    "     bestProducts = df.sort_values(by=['Value'], ascending=False).head(3)\n",
    "\n",
    "     productsRec = {}\n",
    "     \n",
    "     for i in bestProducts['Category'].values:\n",
    "          productsRec.update({i:products[i]})\n",
    "\n",
    "     return productsRec\n",
    "     \n",
    "\n",
    "\n"
   ]
  },
  {
   "cell_type": "markdown",
   "metadata": {},
   "source": [
    "### Main"
   ]
  },
  {
   "cell_type": "code",
   "execution_count": 59,
   "metadata": {},
   "outputs": [
    {
     "data": {
      "text/plain": [
       "{'Binders': np.float64(14.368380827601266),\n",
       " 'Paper': np.float64(13.003603013429412),\n",
       " 'Furnishings': np.float64(9.57528114422972)}"
      ]
     },
     "execution_count": 59,
     "metadata": {},
     "output_type": "execute_result"
    }
   ],
   "source": [
    "choosingRecomended(recommendation([]))"
   ]
  }
 ],
 "metadata": {
  "kernelspec": {
   "display_name": "Python 3",
   "language": "python",
   "name": "python3"
  },
  "language_info": {
   "codemirror_mode": {
    "name": "ipython",
    "version": 3
   },
   "file_extension": ".py",
   "mimetype": "text/x-python",
   "name": "python",
   "nbconvert_exporter": "python",
   "pygments_lexer": "ipython3",
   "version": "3.11.9"
  }
 },
 "nbformat": 4,
 "nbformat_minor": 2
}
